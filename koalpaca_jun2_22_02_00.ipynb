{
  "nbformat": 4,
  "nbformat_minor": 0,
  "metadata": {
    "colab": {
      "private_outputs": true,
      "provenance": [],
      "authorship_tag": "ABX9TyNZL7DFXobqO/bBU3gRkDrH",
      "include_colab_link": true
    },
    "kernelspec": {
      "name": "python3",
      "display_name": "Python 3"
    },
    "language_info": {
      "name": "python"
    }
  },
  "cells": [
    {
      "cell_type": "markdown",
      "metadata": {
        "id": "view-in-github",
        "colab_type": "text"
      },
      "source": [
        "<a href=\"https://colab.research.google.com/github/hwankang/KoAlpaca/blob/main/koalpaca_jun2_22_02_00.ipynb\" target=\"_parent\"><img src=\"https://colab.research.google.com/assets/colab-badge.svg\" alt=\"Open In Colab\"/></a>"
      ]
    },
    {
      "cell_type": "code",
      "execution_count": null,
      "metadata": {
        "id": "KozvDvTthuPe"
      },
      "outputs": [],
      "source": [
        "!git clone https://github.com/Beomi/KoAlpaca.git"
      ]
    },
    {
      "cell_type": "code",
      "source": [
        "!cd KoAlpaca"
      ],
      "metadata": {
        "id": "PThz8Gduh4Nl"
      },
      "execution_count": null,
      "outputs": []
    },
    {
      "cell_type": "code",
      "source": [
        "!ls"
      ],
      "metadata": {
        "id": "OGdxORTziFku"
      },
      "execution_count": null,
      "outputs": []
    },
    {
      "cell_type": "code",
      "source": [
        "!pip install -r KoAlpaca/requirements.txt"
      ],
      "metadata": {
        "id": "GhrnBbkeh73X"
      },
      "execution_count": null,
      "outputs": []
    },
    {
      "cell_type": "code",
      "source": [
        "!pip install git+https://github.com/huggingface/transformers\n"
      ],
      "metadata": {
        "id": "A6iXiekJmxh5"
      },
      "execution_count": null,
      "outputs": []
    },
    {
      "cell_type": "code",
      "source": [],
      "metadata": {
        "id": "cgLvvO4bll3a"
      },
      "execution_count": null,
      "outputs": []
    },
    {
      "cell_type": "code",
      "source": [
        "from transformers import AlpacaForMaskedLM, AlpacaTokenizer\n",
        "\n",
        "tokenizer = AlpacaTokenizer.from_pretrained(\"beomi/KoAlpaca-Polyglot\")\n",
        "model = AlpacaForMaskedLM.from_pretrained(\"beomi/KoAlpaca-Polyglot\")\n",
        "\n",
        "text = \"안녕하세요, 저는 [MASK]를 좋아합니다.\"\n",
        "input_ids = tokenizer.encode(text, return_tensors=\"pt\")\n",
        "mask_idx = input_ids[0].tolist().index(tokenizer.mask_token_id)\n",
        "\n",
        "output = model(input_ids)\n",
        "token_id = output.logits[0, mask_idx].argmax(dim=-1).item()\n",
        "predicted_token = tokenizer.decode([token_id])\n",
        "\n",
        "print(f\"예측된 토큰: {predicted_token}\")"
      ],
      "metadata": {
        "id": "sS2HqmQPl6PJ"
      },
      "execution_count": null,
      "outputs": []
    },
    {
      "cell_type": "code",
      "source": [
        "!pip install python\n",
        "!python KoAlpaca/download.py"
      ],
      "metadata": {
        "id": "TTwyeTYTicY5"
      },
      "execution_count": null,
      "outputs": []
    },
    {
      "cell_type": "code",
      "source": [
        "import torch\n",
        "from transformers import LlamaForCausalLM, LlamaTokenizer\n",
        "\n",
        "tokenizer = LlamaTokenizer.from_pretrained(\"../KoAlpaca/\")\n",
        "model = LlamaForCausalLM.from_pretrained(\"../KoAlpaca/\").to('cuda:0')"
      ],
      "metadata": {
        "id": "RtAtiuidkGCf"
      },
      "execution_count": null,
      "outputs": []
    }
  ]
}