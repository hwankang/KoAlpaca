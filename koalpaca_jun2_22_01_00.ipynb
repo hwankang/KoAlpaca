{
  "nbformat": 4,
  "nbformat_minor": 0,
  "metadata": {
    "colab": {
      "private_outputs": true,
      "provenance": [],
      "authorship_tag": "ABX9TyPA6Ra4r5cFyfBps4NawBGm",
      "include_colab_link": true
    },
    "kernelspec": {
      "name": "python3",
      "display_name": "Python 3"
    },
    "language_info": {
      "name": "python"
    }
  },
  "cells": [
    {
      "cell_type": "markdown",
      "metadata": {
        "id": "view-in-github",
        "colab_type": "text"
      },
      "source": [
        "<a href=\"https://colab.research.google.com/github/hwankang/KoAlpaca/blob/main/koalpaca_jun2_22_01_00.ipynb\" target=\"_parent\"><img src=\"https://colab.research.google.com/assets/colab-badge.svg\" alt=\"Open In Colab\"/></a>"
      ]
    },
    {
      "cell_type": "code",
      "execution_count": null,
      "metadata": {
        "id": "KozvDvTthuPe"
      },
      "outputs": [],
      "source": [
        "!git clone https://github.com/Beomi/KoAlpaca.git"
      ]
    },
    {
      "cell_type": "code",
      "source": [
        "!cd KoAlpaca"
      ],
      "metadata": {
        "id": "PThz8Gduh4Nl"
      },
      "execution_count": null,
      "outputs": []
    },
    {
      "cell_type": "code",
      "source": [
        "!ls"
      ],
      "metadata": {
        "id": "OGdxORTziFku"
      },
      "execution_count": null,
      "outputs": []
    },
    {
      "cell_type": "code",
      "source": [
        "!pip install -r KoAlpaca/requirements.txt"
      ],
      "metadata": {
        "id": "GhrnBbkeh73X"
      },
      "execution_count": null,
      "outputs": []
    },
    {
      "cell_type": "code",
      "source": [
        "!pip install python\n",
        "!python KoAlpaca/download.py"
      ],
      "metadata": {
        "id": "TTwyeTYTicY5"
      },
      "execution_count": null,
      "outputs": []
    },
    {
      "cell_type": "code",
      "source": [
        "import torch\n",
        "from transformers import LlamaForCausalLM, LlamaTokenizer\n",
        "\n",
        "tokenizer = LlamaTokenizer.from_pretrained(\"../KoAlpaca/\")\n",
        "model = LlamaForCausalLM.from_pretrained(\"../KoAlpaca/\").to('cuda:0')"
      ],
      "metadata": {
        "id": "RtAtiuidkGCf"
      },
      "execution_count": null,
      "outputs": []
    }
  ]
}